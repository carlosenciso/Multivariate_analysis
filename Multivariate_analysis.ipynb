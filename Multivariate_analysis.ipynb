{
  "nbformat": 4,
  "nbformat_minor": 0,
  "metadata": {
    "colab": {
      "name": "Multivariate_analysis.ipynb",
      "provenance": [],
      "collapsed_sections": [
        "agFO1999CTF5"
      ],
      "authorship_tag": "ABX9TyN/m6d80vkGTiD5MDKDWYQn",
      "include_colab_link": true
    },
    "kernelspec": {
      "name": "python3",
      "display_name": "Python 3"
    }
  },
  "cells": [
    {
      "cell_type": "markdown",
      "metadata": {
        "id": "view-in-github",
        "colab_type": "text"
      },
      "source": [
        "<a href=\"https://colab.research.google.com/github/carlosenciso/Multivariate_analysis/blob/master/Multivariate_analysis.ipynb\" target=\"_parent\"><img src=\"https://colab.research.google.com/assets/colab-badge.svg\" alt=\"Open In Colab\"/></a>"
      ]
    },
    {
      "cell_type": "markdown",
      "metadata": {
        "id": "mPzBfFcA9ZuR",
        "colab_type": "text"
      },
      "source": [
        "----\n",
        "<div style=\"width: 100%; overflow: hidden;\">\n",
        "    <div style=\"width: 400px; float: left;\"> </div>\n",
        "    <div style=\"float: left; margin-left: 10px;\"> <h1><strong>Multivariate Analysis</strong></h1>\n",
        "<h1><strong>Climate & COVID</strong></h1>\n",
        "        <p><strong>Created by:</strong> Carlos Enciso Ojeda</p><br>\n",
        "        <strong>Atmopsheric and Climate Research</strong></br>\n",
        "        <strong>Last modified time: 2020-09-10 T10:00:14-05:00<strong><br>\n",
        "        <a href=\"https://github.com/carlosenciso/\">www.atmcenciso.com</a><br/>\n",
        "        <strong>Email:<strong> carlos.enciso.o@gmail.com | cenciso@senamhi.gob.pe</p></div>\n",
        "\n",
        "----"
      ]
    },
    {
      "cell_type": "markdown",
      "metadata": {
        "id": "-qTsmMib-lX6",
        "colab_type": "text"
      },
      "source": [
        "# 1. Installing a library that is not in Colaboratory\n",
        "\n",
        "To import a library that's not in Colaboratory by default, you can use `!pip install` or `!apt-get install`."
      ]
    },
    {
      "cell_type": "code",
      "metadata": {
        "id": "O_R8-Zao-qeW",
        "colab_type": "code",
        "colab": {},
        "cellView": "form"
      },
      "source": [
        "#@title Modules\n",
        "!pip install geopandas\n",
        "!pip install xarray \n",
        "!pip install rioxarray\n",
        "!pip install cmocean\n",
        "!pip install seaborn\n",
        "!pip install geetools\n",
        "!pip install folium\n",
        "!pip install PyMARE\n",
        "!pip install git+https://github.com/neurostuff/PyMARE.git\n",
        "!pip install researchpy"
      ],
      "execution_count": null,
      "outputs": []
    },
    {
      "cell_type": "markdown",
      "metadata": {
        "id": "agFO1999CTF5",
        "colab_type": "text"
      },
      "source": [
        "Analisis Multivariable\n",
        "==="
      ]
    },
    {
      "cell_type": "markdown",
      "metadata": {
        "id": "7maEn1DoCrI0",
        "colab_type": "text"
      },
      "source": [
        "## <strong>REGRESION DE EFECTO MIXTO</strong> \n",
        "[[reference]](https://www.pythonfordatascience.org/mixed-effects-regression-python/)\n",
        "\n",
        "<p align=\" justify\">¿Qué es la regresión de efectos mixtos? La regresión de efectos mixtos es una extensión del modelo lineal general (GLM) que tiene en cuenta la estructura jerárquica de los datos. Los modelos de efectos mixtos también se conocen como modelos multinivel, modelos jerárquicos, modelos mixtos (o modelos mixtos específicamente lineales (LMM)) y son adecuados para muchos tipos de datos, como datos agrupados, datos de medidas repetidas, datos longitudinales y combinaciones. de esos tres. Dado que la regresión de efectos mixtos es una extensión del modelo lineal general, recordemos que la ecuación de regresión lineal general se ve así:</p>\n",
        "<br></br>\n",
        "<img src=\"https://drive.google.com/uc?export=view&id=1scru5jIk4Un2IX8SUAiNzO0zRFcLiB_r\" width=\"300\">\n",
        "<br></br>\n",
        "\n",
        "Donde:\n",
        "- $X$ es una matriz de diseño N x p que los valores observados para cada individuo (N) para cada variable independiente en el modelo (p)</br>\n",
        "- $\\beta$ es un vector de columna p x 1 que contiene los coeficientes de regresión para cada variable independiente en el modelo (p) </br>\n",
        "- $\\epsilon$ es un vector de columna N x 1 que contiene los errores (residuales) del modelo\n",
        "\n",
        "El modelo lineal general también se muestra a menudo de esta forma:\n",
        "<br></br>\n",
        "<img src=\"https://drive.google.com/uc?export=view&id=1ZOzR07ovWJunUhZOXTgljX-VGKyUe8C7\" width=\"400\">\n",
        "<br></br>\n",
        "\n",
        "Donde:\n",
        "- $\\beta_{0}$ es la constante (intersección en el modelo) </br>\n",
        "- $\\beta_{n}$ representa el coeficiente de regresión (pendiente) para una variable independiente </br>\n",
        "- $x_{n}$ representa la variable independiente</br>\n",
        "\n",
        "<p align=\" justify\">El modelo de efectos mixtos es una extensión y modela los efectos aleatorios de una variable de agrupamiento. Los modelos mixtos pueden modelar la variación alrededor de la intersección (modelo de intersección aleatoria), alrededor de la pendiente (modelo de pendiente aleatoria) y alrededor de la pendiente (modelo de intersección aleatoria y pendiente). El modelo lineal mixto es:</p>\n",
        "<br></br>\n",
        "<img src=\"https://drive.google.com/uc?export=view&id=1Ui-tTFnY7OTcqEjcn-RpPcVcYtz3rEIb\" width=\"400\">\n",
        "<br></br>\n",
        "\n",
        "Donde:\n",
        "- $Z$ es una matriz de diseño N x q que contiene los valores observados para cada individuo (N) para cada covariable (q) de los efectos aleatorios </br>\n",
        "- $u$ es un vector q x 1 que contiene los efectos aleatorios de las q covariables en la matriz $Z$ </br>\n",
        "\n",
        "Desempaquetado, el modelo de efectos mixtos se muestra de forma ligeramente diferente y utiliza diferentes símbolos y más subíndices que el modelo lineal general. El modelo de efectos mixtos extendido es:\n",
        "<br></br>\n",
        "<img src=\"https://drive.google.com/uc?export=view&id=1SMDyYgC1u5XK0bw8JPUc4hXlnw7hBm4u\" width=\"500\">\n",
        "<br></br>\n",
        "\n",
        "Donde:\n",
        "- $\\gamma$ representa los efectos fijos más los efectos aleatorios </br>\n",
        "- los subíndices indican un valor para la i-ésima observación del j-ésimo nivel de agrupación del efecto aleatorio </br>\n",
        "\n",
        "Antes de analizar los diferentes tipos de modelos de efectos mixtos, será beneficioso comprender algo de terminología.\n",
        "\n",
        "## <strong>TERMINOLOGÍA Y CONCEPTOS</strong>\n",
        "### <strong>ESTRUCTURA JERARQUICA</strong>\n",
        "\n",
        "<br>Cuando se habla de la estructura de los datos en modelos de efectos mixtos, la organización jerárquica de sus componentes a menudo se denomina \"niveles\" o \"agrupaciones\". Con cada nivel superior siendo otra variable de agrupación / agrupación, por ejemplo: </br>\n",
        "\n",
        "- Nivel 1: es el nivel más bajo de la jerarquía que es la unidad de análisis, es decir, persona, empresa, medicamentos, etc. En la ecuación del modelo de efectos mixtos anterior, esta es la \"i\" en la ecuación. </br>\n",
        "- Nivel 2: es el siguiente nivel más bajo de la jerarquía de datos donde todas las unidades de análisis del nivel 1 se agrupan en grupos. En la ecuación del modelo de efectos mixtos anterior, esta es la \"j\" en la ecuación. </br>\n",
        "- Nivel 3: es el siguiente nivel más bajo de la jerarquía de datos donde los grupos del nivel 2 están más agrupados. Este nivel alto no se modela en la ecuación LMM anterior. </br>\n",
        "- Nivel N: es el siguiente nivel más bajo de la jerarquía de datos donde los grupos del nivel N - 1 se agrupan más. Este nivel alto no se modela en la ecuación anterior del modelo de efectos mixtos. </br>\n",
        "\n",
        "<br>El nivel 2 y superior son los efectos aleatorios que se están modelando.</br>\n",
        "\n",
        "<br><p align=\" justify\">Para ayudar a solidificar este concepto, imagine un estudio sobre el resultado del estudiante medido por una prueba estandarizada. Los distritos escolares no recibieron un plan de estudios ni directrices sobre cómo prepararse para esta prueba. Los datos para este estudio son una muestra aleatoria recolectada de diferentes escuelas que se encuentran en diferentes distritos escolares dentro del estado de Michigan; cada fila del conjunto de datos representa a un solo estudiante. En este ejemplo, el nivel 1 sería el estudiante, el nivel 2 sería la escuela y el nivel 3 sería el distrito escolar. Este sería un buen modelo porque modelará la variación que está presente dentro de cada escuela y dentro de cada distrito. Modelar esta variación permitirá explorar la escuela como su propia población y el distrito como su propia población.</p></br>\n",
        "\n",
        "Visualicemos la estructura jerárquica. Para mantener la visualización simple, solo se mostrará un distrito.\n",
        "\n",
        "<br></br>\n",
        "<img src=\"https://drive.google.com/uc?export=view&id=1eGD4utdqKJWiR0k8A7JbnUK-qAa0szOZ\" width=\"800\">\n",
        "<br></br>\n",
        "\n",
        "## <strong>EFECTO ALEATORIO</strong>\n",
        "\n",
        "<br><p align=\" justify\">West, Welch y Gatecki (2015, p. 9) proporcionan una buena definición de efectos fijos y efectos aleatorios \"Los parámetros de efectos fijos describen las relaciones de las covariables con la variable dependiente para una población completa, los efectos aleatorios son específicos de grupos de sujetos dentro de una población \". Cuando West, Welch y Gatecki (2015) hablan de \"relaciones de las covariables con la variable dependiente\", las covariables son las variables independientes en el modelo.</p></br>\n",
        "\n",
        "\n",
        "- Los factores fijos son las variables independientes que son de interés para el estudio, p. Ej. categoría de tratamiento, sexo o género, variable categórica, etc.</br>\n",
        "- Los factores aleatorios son las variables de clasificación bajo las que se agrupa la unidad de análisis, es decir, suelen ser las variables que definen el nivel 2, el nivel 3 o el nivel n. Estos factores también se pueden considerar como una población de la que las medidas unitarias se tomaron al azar, es decir (usando el ejemplo de la escuela anterior) la escuela (nivel 2) tenía una muestra aleatoria de puntajes de los estudiantes (nivel 1) seleccionados para ser utilizados en el estudio.</br>\n",
        "\n",
        "<br><p align=\" justify\">Gelman y Hill (2007) sostienen que la clasificación de una variable como efecto fijo o efecto aleatorio variará según el objetivo del estudio y el análisis. La forma en que se modela una variable cambia lo que se mide y lo que el modelo asume sobre la variable en sí. Usando el ejemplo del estudio de la escuela, si se modelara la variable categórica de la escuela como un efecto fijo, ese modelo supondría que las medias del grupo (una de cada escuela) son independientes entre sí; si la variable de escuela categórica se modela como un efecto aleatorio (solo intersección aleatoria), el modelo supondría que las escuelas medidas son una muestra de una población más grande de escuelas.</p></br>\n",
        "\n",
        "## <strong>DIFERENCIA ENTRE TIPOS DE MODELOS DE EFECTOS MIXTOS</strong>\n",
        "\n",
        "<br><p align=\" justify\">Anteriormente se mencionó cómo los modelos de efectos mixtos podrían ser un modelo de intersección aleatoria, un modelo de pendiente aleatoria o un modelo de intersección aleatoria y pendiente aleatoria. Siendo las diferencias, el modelo de intersección aleatoria permite diferentes intersecciones basadas en la variable de agrupamiento (gráfico A de la figura siguiente) mientras que el modelo de pendiente aleatoria permite diferentes pendientes en función de una variable, y mientras que el modelo de intersecciones aleatorias y pendientes aleatorias (gráfico B de la figura siguiente) permite diferentes intersecciones basadas en una variable de agrupamiento y pendientes basadas en una variable. Estas diferencias entre el modelo de intersección aleatoria y el modelo de intersección aleatoria y pendiente aleatoria se visualizan en la siguiente figura; la figura es una versión ligeramente modificada de Harrison et. al (2018). Para una visualización de los tres modelos, consulte este gráfico dinámico.</p></br>\n",
        "\n",
        "<br></br>\n",
        "<img src=\"https://drive.google.com/uc?export=view&id=1TS1Y1uJ-zNyKs9gabwlnM180AJU_pxQY\" width=\"1000\">\n",
        "<br></br>\n",
        "\n",
        "\n",
        "\n"
      ]
    },
    {
      "cell_type": "markdown",
      "metadata": {
        "id": "p3iyc35b_BYT",
        "colab_type": "text"
      },
      "source": [
        "# 2. Mount Drive\n",
        "Mount remotely your google drive to get access into Dataset"
      ]
    },
    {
      "cell_type": "code",
      "metadata": {
        "id": "0_p99WVT-yFZ",
        "colab_type": "code",
        "colab": {},
        "cellView": "both"
      },
      "source": [
        "#@title Import Modules\n",
        "import matplotlib.pyplot as plt\n",
        "import numpy as np\n",
        "import os\n",
        "import sys\n",
        "import pandas as pd\n",
        "import pandas as pd\n",
        "import researchpy as rp\n",
        "import statsmodels.api as sm\n",
        "import statsmodels.formula.api as smf\n",
        "import scipy.stats as stats\n",
        "from pymare import core, estimators"
      ],
      "execution_count": 24,
      "outputs": []
    },
    {
      "cell_type": "code",
      "metadata": {
        "id": "gj4uL3HEJMXJ",
        "colab_type": "code",
        "colab": {}
      },
      "source": [
        "df = pd.read_csv(\"http://www-personal.umich.edu/~bwest/rat_pup.dat\", sep = \"\\t\")"
      ],
      "execution_count": 18,
      "outputs": []
    },
    {
      "cell_type": "code",
      "metadata": {
        "id": "G7OYxRu2Jdo3",
        "colab_type": "code",
        "colab": {
          "base_uri": "https://localhost:8080/",
          "height": 342
        },
        "outputId": "2c1588e1-8db2-4e9d-806a-2ce45542c081"
      },
      "source": [
        "model = smf.mixedlm(\"weight ~ litsize + C(treatment) + C(sex, Treatment('Male')) + C(treatment):C(sex, Treatment('Male'))\",\n",
        "                    df,\n",
        "                    groups= \"litter\").fit()\n",
        "\n",
        "model.summary()"
      ],
      "execution_count": 19,
      "outputs": [
        {
          "output_type": "execute_result",
          "data": {
            "text/html": [
              "<table class=\"simpletable\">\n",
              "<tr>\n",
              "       <td>Model:</td>       <td>MixedLM</td> <td>Dependent Variable:</td>  <td>weight</td>  \n",
              "</tr>\n",
              "<tr>\n",
              "  <td>No. Observations:</td>   <td>322</td>         <td>Method:</td>         <td>REML</td>   \n",
              "</tr>\n",
              "<tr>\n",
              "     <td>No. Groups:</td>      <td>27</td>          <td>Scale:</td>         <td>0.1635</td>  \n",
              "</tr>\n",
              "<tr>\n",
              "  <td>Min. group size:</td>     <td>2</td>        <td>Likelihood:</td>     <td>-200.5522</td>\n",
              "</tr>\n",
              "<tr>\n",
              "  <td>Max. group size:</td>    <td>18</td>        <td>Converged:</td>         <td>Yes</td>   \n",
              "</tr>\n",
              "<tr>\n",
              "  <td>Mean group size:</td>   <td>11.9</td>            <td></td>               <td></td>     \n",
              "</tr>\n",
              "</table>\n",
              "<table class=\"simpletable\">\n",
              "<tr>\n",
              "                              <td></td>                              <th>Coef.</th> <th>Std.Err.</th>    <th>z</th>   <th>P>|z|</th> <th>[0.025</th> <th>0.975]</th>\n",
              "</tr>\n",
              "<tr>\n",
              "  <th>Intercept</th>                                                 <td>8.323</td>   <td>0.273</td>  <td>30.447</td> <td>0.000</td>  <td>7.788</td>  <td>8.859</td>\n",
              "</tr>\n",
              "<tr>\n",
              "  <th>C(treatment)[T.High]</th>                                     <td>-0.906</td>   <td>0.192</td>  <td>-4.727</td> <td>0.000</td> <td>-1.282</td> <td>-0.530</td>\n",
              "</tr>\n",
              "<tr>\n",
              "  <th>C(treatment)[T.Low]</th>                                      <td>-0.467</td>   <td>0.158</td>  <td>-2.952</td> <td>0.003</td> <td>-0.777</td> <td>-0.157</td>\n",
              "</tr>\n",
              "<tr>\n",
              "  <th>C(sex, Treatment('Male'))[T.Female]</th>                      <td>-0.412</td>   <td>0.073</td>  <td>-5.625</td> <td>0.000</td> <td>-0.555</td> <td>-0.268</td>\n",
              "</tr>\n",
              "<tr>\n",
              "  <th>C(treatment)[T.High]:C(sex, Treatment('Male'))[T.Female]</th>  <td>0.107</td>   <td>0.132</td>   <td>0.811</td> <td>0.417</td> <td>-0.151</td>  <td>0.366</td>\n",
              "</tr>\n",
              "<tr>\n",
              "  <th>C(treatment)[T.Low]:C(sex, Treatment('Male'))[T.Female]</th>   <td>0.084</td>   <td>0.106</td>   <td>0.794</td> <td>0.427</td> <td>-0.123</td>  <td>0.291</td>\n",
              "</tr>\n",
              "<tr>\n",
              "  <th>litsize</th>                                                  <td>-0.128</td>   <td>0.019</td>  <td>-6.845</td> <td>0.000</td> <td>-0.165</td> <td>-0.092</td>\n",
              "</tr>\n",
              "<tr>\n",
              "  <th>litter Var</th>                                                <td>0.097</td>   <td>0.084</td>     <td></td>      <td></td>       <td></td>       <td></td>   \n",
              "</tr>\n",
              "</table>"
            ],
            "text/plain": [
              "<class 'statsmodels.iolib.summary2.Summary'>\n",
              "\"\"\"\n",
              "                               Mixed Linear Model Regression Results\n",
              "===================================================================================================\n",
              "Model:                            MixedLM               Dependent Variable:               weight   \n",
              "No. Observations:                 322                   Method:                           REML     \n",
              "No. Groups:                       27                    Scale:                            0.1635   \n",
              "Min. group size:                  2                     Likelihood:                       -200.5522\n",
              "Max. group size:                  18                    Converged:                        Yes      \n",
              "Mean group size:                  11.9                                                             \n",
              "---------------------------------------------------------------------------------------------------\n",
              "                                                         Coef.  Std.Err.   z    P>|z| [0.025 0.975]\n",
              "---------------------------------------------------------------------------------------------------\n",
              "Intercept                                                 8.323    0.273 30.447 0.000  7.788  8.859\n",
              "C(treatment)[T.High]                                     -0.906    0.192 -4.727 0.000 -1.282 -0.530\n",
              "C(treatment)[T.Low]                                      -0.467    0.158 -2.952 0.003 -0.777 -0.157\n",
              "C(sex, Treatment('Male'))[T.Female]                      -0.412    0.073 -5.625 0.000 -0.555 -0.268\n",
              "C(treatment)[T.High]:C(sex, Treatment('Male'))[T.Female]  0.107    0.132  0.811 0.417 -0.151  0.366\n",
              "C(treatment)[T.Low]:C(sex, Treatment('Male'))[T.Female]   0.084    0.106  0.794 0.427 -0.123  0.291\n",
              "litsize                                                  -0.128    0.019 -6.845 0.000 -0.165 -0.092\n",
              "litter Var                                                0.097    0.084                           \n",
              "===================================================================================================\n",
              "\n",
              "\"\"\""
            ]
          },
          "metadata": {
            "tags": []
          },
          "execution_count": 19
        }
      ]
    },
    {
      "cell_type": "code",
      "metadata": {
        "id": "QxH3d5Q4_SKJ",
        "colab_type": "code",
        "colab": {}
      },
      "source": [
        "n_studies = 100\n",
        "v = np.random.random((n_studies))\n",
        "y = np.random.random((n_studies))\n",
        "X = np.random.random((n_studies, 5))\n",
        "n = np.random.randint(5, 50, size=n_studies)"
      ],
      "execution_count": 20,
      "outputs": []
    },
    {
      "cell_type": "code",
      "metadata": {
        "id": "CpmsxIqf_gTH",
        "colab_type": "code",
        "colab": {
          "base_uri": "https://localhost:8080/",
          "height": 139
        },
        "outputId": "329c4eb7-0a1d-459d-bf9d-fdf77b803670"
      },
      "source": [
        "dataset = core.Dataset(v=v, X=X, y=y, n=n)\n",
        "est = estimators.WeightedLeastSquares().fit(dataset)\n",
        "results = est.summary()\n",
        "print(results.to_df())"
      ],
      "execution_count": 21,
      "outputs": [
        {
          "output_type": "stream",
          "text": [
            "        name  estimate        se   z-score   p-value  ci_0.025  ci_0.975\n",
            "0  intercept  0.482065  0.173771  2.774136  0.005535  0.141480  0.822651\n",
            "1          0  0.320770  0.145811  2.199901  0.027814  0.034985  0.606555\n",
            "2          1 -0.024695  0.143509 -0.172081  0.863374 -0.305967  0.256577\n",
            "3          2 -0.205619  0.165744 -1.240581  0.214761 -0.530472  0.119234\n",
            "4          3  0.134201  0.138324  0.970192  0.331951 -0.136909  0.405311\n",
            "5          4 -0.137959  0.152730 -0.903290  0.366372 -0.437304  0.161385\n"
          ],
          "name": "stdout"
        }
      ]
    }
  ]
}